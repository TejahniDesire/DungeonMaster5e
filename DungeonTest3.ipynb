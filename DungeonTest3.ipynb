{
 "cells": [
  {
   "cell_type": "code",
   "execution_count": 1,
   "metadata": {},
   "outputs": [],
   "source": [
    "import Scripts\n",
    "from Scripts.charecterF import charecterMechanics\n",
    "from Scripts.charecterF import charecterAttributes\n",
    "from Scripts.charecterF import charecter, time\n",
    "from Scripts.objectF import pyHelper\n",
    "import numpy as np\n",
    "%load_ext autoreload\n",
    "%autoreload 2"
   ]
  },
  {
   "cell_type": "code",
   "execution_count": null,
   "metadata": {},
   "outputs": [],
   "source": []
  },
  {
   "cell_type": "code",
   "execution_count": 5,
   "metadata": {},
   "outputs": [
    {
     "data": {
      "text/plain": [
       "'Nat Stat'"
      ]
     },
     "execution_count": 5,
     "metadata": {},
     "output_type": "execute_result"
    }
   ],
   "source": [
    "\"Nat_stat\".replace(\"_\",\" \").title()"
   ]
  },
  {
   "cell_type": "markdown",
   "metadata": {},
   "source": [
    "# Time"
   ]
  },
  {
   "cell_type": "code",
   "execution_count": 155,
   "metadata": {},
   "outputs": [],
   "source": [
    "week, day, hour, minute, second = time.timeBreakdown(369,'day')"
   ]
  },
  {
   "cell_type": "code",
   "execution_count": 176,
   "metadata": {},
   "outputs": [],
   "source": [
    "ttime = time.Time()"
   ]
  },
  {
   "cell_type": "code",
   "execution_count": 194,
   "metadata": {},
   "outputs": [
    {
     "data": {
      "text/plain": [
       "1"
      ]
     },
     "execution_count": 194,
     "metadata": {},
     "output_type": "execute_result"
    }
   ],
   "source": [
    "ttime.sign"
   ]
  },
  {
   "cell_type": "code",
   "execution_count": 207,
   "metadata": {},
   "outputs": [
    {
     "data": {
      "text/plain": [
       "int"
      ]
     },
     "execution_count": 207,
     "metadata": {},
     "output_type": "execute_result"
    }
   ],
   "source": [
    "type(int(np.abs(19)))"
   ]
  },
  {
   "cell_type": "code",
   "execution_count": 229,
   "metadata": {},
   "outputs": [
    {
     "data": {
      "text/plain": [
       "1000"
      ]
     },
     "execution_count": 229,
     "metadata": {},
     "output_type": "execute_result"
    }
   ],
   "source": [
    "hash(1000)"
   ]
  },
  {
   "cell_type": "code",
   "execution_count": 232,
   "metadata": {},
   "outputs": [
    {
     "data": {
      "text/plain": [
       "{289840: <Scripts.charecterF.time.Time at 0x7048d449c1d0>}"
      ]
     },
     "execution_count": 232,
     "metadata": {},
     "output_type": "execute_result"
    }
   ],
   "source": [
    "ttime.splinters"
   ]
  },
  {
   "cell_type": "code",
   "execution_count": 25,
   "metadata": {},
   "outputs": [
    {
     "name": "stdout",
     "output_type": "stream",
     "text": [
      "(+) 0 Weeks 0 Days 0 Hours 0 Minutes 0 Seconds \n",
      "(+) 0 Weeks 0 Days 0 Hours 0 Minutes 40 Seconds \n",
      "(+) 0 Weeks 3 Days 7 Hours 0 Minutes 40 Seconds \n",
      "(+) 0 Weeks 3 Days 8 Hours 10 Minutes 40 Seconds \n",
      "(-) 0 Weeks 3 Days 15 Hours 49 Minutes 20 Seconds \n",
      "(+) 0 Weeks 3 Days 8 Hours 10 Minutes 40 Seconds \n",
      "Splinter  (+) 0 Weeks 0 Days 0 Hours 0 Minutes 0 Seconds \n",
      "(+) 0 Weeks 4 Days 14 Hours 40 Minutes 40 Seconds \n",
      "Splinter  (+) 0 Weeks 1 Days 6 Hours 10 Minutes 0 Seconds \n"
     ]
    }
   ],
   "source": [
    "ttime = time.Time()\n",
    "print(ttime)\n",
    "ttime.add(40,'second')\n",
    "print(ttime)\n",
    "ttime.add(79,'hour')\n",
    "print(ttime)\n",
    "ttime.add(50,'minute')\n",
    "ttime.add(20,'minute')\n",
    "print(ttime)\n",
    "ttime.add(-1,'week')\n",
    "print(ttime) \n",
    "ttime.add(1,'week')\n",
    "print(ttime)\n",
    "\n",
    "ttime.add(20,'minute')\n",
    "\n",
    "ttime.splinterTime()\n",
    "print(\"Splinter \", list(ttime.splinters.values())[0])\n",
    "ttime.add(30,'hour')\n",
    "ttime.add(10,'minute')\n",
    "print(ttime)\n",
    "print(\"Splinter \", list(ttime.splinters.values())[0])"
   ]
  },
  {
   "cell_type": "code",
   "execution_count": 35,
   "metadata": {},
   "outputs": [
    {
     "name": "stdout",
     "output_type": "stream",
     "text": [
      "1.2682308180088775e-06\n"
     ]
    }
   ],
   "source": [
    "ttime = time.Time()\n",
    "ttime.add(40,'second')\n",
    "print(ttime.getTime(absolute=True,unit='year'))"
   ]
  },
  {
   "cell_type": "code",
   "execution_count": 14,
   "metadata": {},
   "outputs": [
    {
     "data": {
      "text/plain": [
       "'40 Seconds'"
      ]
     },
     "execution_count": 14,
     "metadata": {},
     "output_type": "execute_result"
    }
   ],
   "source": [
    "str(ttime)"
   ]
  },
  {
   "cell_type": "code",
   "execution_count": 42,
   "metadata": {},
   "outputs": [],
   "source": [
    "ttime.add(int(6.312e+7),'second')\n"
   ]
  },
  {
   "cell_type": "code",
   "execution_count": 52,
   "metadata": {},
   "outputs": [
    {
     "data": {
      "text/plain": [
       "[4, 0]"
      ]
     },
     "execution_count": 52,
     "metadata": {},
     "output_type": "execute_result"
    }
   ],
   "source": [
    "ttime.getTime(['hour','minute'])"
   ]
  },
  {
   "cell_type": "code",
   "execution_count": 46,
   "metadata": {},
   "outputs": [
    {
     "data": {
      "text/plain": [
       "5"
      ]
     },
     "execution_count": 46,
     "metadata": {},
     "output_type": "execute_result"
    }
   ],
   "source": [
    "ttime.getSpecialTime('day')"
   ]
  },
  {
   "cell_type": "code",
   "execution_count": 33,
   "metadata": {},
   "outputs": [
    {
     "data": {
      "text/plain": [
       "[289840, 398440, 399040]"
      ]
     },
     "execution_count": 33,
     "metadata": {},
     "output_type": "execute_result"
    }
   ],
   "source": [
    "ttime.non_covert_keys"
   ]
  },
  {
   "cell_type": "code",
   "execution_count": 7,
   "metadata": {},
   "outputs": [
    {
     "data": {
      "text/plain": [
       "'Grand Time'"
      ]
     },
     "execution_count": 7,
     "metadata": {},
     "output_type": "execute_result"
    }
   ],
   "source": [
    "ttime.name"
   ]
  },
  {
   "cell_type": "code",
   "execution_count": 9,
   "metadata": {},
   "outputs": [
    {
     "data": {
      "text/plain": [
       "1"
      ]
     },
     "execution_count": 9,
     "metadata": {},
     "output_type": "execute_result"
    }
   ],
   "source": [
    "list(ttime.splinters.values())[0].getUnit('day')"
   ]
  },
  {
   "cell_type": "code",
   "execution_count": null,
   "metadata": {},
   "outputs": [
    {
     "name": "stdout",
     "output_type": "stream",
     "text": [
      "[1, 4, 13, 46, 40]\n"
     ]
    }
   ],
   "source": [
    "print(time.Time(1000000,'second').show_time)\n"
   ]
  },
  {
   "cell_type": "code",
   "execution_count": 244,
   "metadata": {},
   "outputs": [
    {
     "data": {
      "text/plain": [
       "[370286, 1, 8, 30, 40]"
      ]
     },
     "execution_count": 244,
     "metadata": {},
     "output_type": "execute_result"
    }
   ],
   "source": [
    "list(ttime.splinters.values())[0].show_time"
   ]
  },
  {
   "cell_type": "code",
   "execution_count": 143,
   "metadata": {},
   "outputs": [
    {
     "name": "stdout",
     "output_type": "stream",
     "text": [
      "Week  52\n",
      "Day  5\n",
      "Hour  0\n",
      "Minute  0\n",
      "Second  0\n"
     ]
    }
   ],
   "source": [
    "print('Week ', week)\n",
    "print('Day ', day)\n",
    "print('Hour ', hour)\n",
    "print('Minute ', minute)\n",
    "print('Second ', second)"
   ]
  },
  {
   "cell_type": "code",
   "execution_count": 135,
   "metadata": {},
   "outputs": [
    {
     "data": {
      "text/plain": [
       "35259250"
      ]
     },
     "execution_count": 135,
     "metadata": {},
     "output_type": "execute_result"
    }
   ],
   "source": [
    "week * 10080 + day * 1440 + hour * 60 + minute"
   ]
  },
  {
   "cell_type": "code",
   "execution_count": 129,
   "metadata": {},
   "outputs": [
    {
     "data": {
      "text/plain": [
       "3"
      ]
     },
     "execution_count": 129,
     "metadata": {},
     "output_type": "execute_result"
    }
   ],
   "source": [
    "int(180 / 60)"
   ]
  },
  {
   "cell_type": "code",
   "execution_count": 27,
   "metadata": {},
   "outputs": [
    {
     "data": {
      "text/plain": [
       "10"
      ]
     },
     "execution_count": 27,
     "metadata": {},
     "output_type": "execute_result"
    }
   ],
   "source": [
    "70 % 60"
   ]
  },
  {
   "cell_type": "markdown",
   "metadata": {},
   "source": [
    "# Charecter Tests"
   ]
  },
  {
   "cell_type": "code",
   "execution_count": 183,
   "metadata": {},
   "outputs": [],
   "source": [
    "tcharecter = charecter.CharacterSheet()\n",
    "\n",
    "\n"
   ]
  },
  {
   "cell_type": "markdown",
   "metadata": {},
   "source": [
    "# Number Test"
   ]
  },
  {
   "cell_type": "code",
   "execution_count": 177,
   "metadata": {},
   "outputs": [
    {
     "name": "stdout",
     "output_type": "stream",
     "text": [
      "2\n",
      "3\n",
      "3\n",
      "False\n",
      "False\n",
      "True\n",
      "True\n"
     ]
    }
   ],
   "source": [
    "t2 = pyHelper.ReferenceNumber(2)\n",
    "t3 = pyHelper.ReferenceNumber(3)\n",
    "\n",
    "tU = t2.copy()\n",
    "tU.add(t3)\n",
    "tU.minus(t2)\n",
    "print(t2)\n",
    "print(t3)\n",
    "print(tU)\n",
    "\n",
    "print(t2 >= t3)\n",
    "print(t2 == t3)\n",
    "print(tU == t3)\n",
    "print(tU >= t3)"
   ]
  },
  {
   "cell_type": "markdown",
   "metadata": {},
   "source": [
    "# Skill Test"
   ]
  },
  {
   "cell_type": "code",
   "execution_count": 12,
   "metadata": {},
   "outputs": [
    {
     "name": "stdout",
     "output_type": "stream",
     "text": [
      "Strength Stat: \n",
      "____________________________________________________________\n",
      "____________________________________________________________\n",
      "Pure\n",
      "_____________________________\n",
      " Race: +16\n",
      " Level 5 fighter: +3\n",
      " Luck: +1\n",
      "_____\n",
      "Total: 20\n",
      "____________________________________________________________\n",
      "Modifier\n",
      "_____________________________\n",
      " nat_stat: +5\n",
      " Stud: +4\n",
      "_____\n",
      "Total: +9\n",
      "____________________________________________________________\n",
      "\n"
     ]
    }
   ],
   "source": [
    "tstrength = charecterAttributes.Stat(\"Strength\")\n",
    "tstrength.add_base('Race',pyHelper.ReferenceNumber(16,is_int=True))\n",
    "tstrength.add_base('Level 5 fighter',pyHelper.ReferenceNumber(3,is_int=True))\n",
    "tstrength.add_base('Luck',pyHelper.ReferenceNumber(1,is_int=True))\n",
    "\n",
    "tstrength.add_bonus('Stud',pyHelper.ReferenceNumber(4))\n",
    "print(tstrength)"
   ]
  },
  {
   "cell_type": "code",
   "execution_count": 11,
   "metadata": {},
   "outputs": [
    {
     "name": "stdout",
     "output_type": "stream",
     "text": [
      "nat_stat 9\n",
      "prof 2\n",
      "expert 0\n",
      "nat_stat 9\n",
      "prof 2\n",
      "expert 2\n",
      "Athletics Skill (Strength): \n",
      "____________________________________________________________\n",
      "____________________________________________________________\n",
      " nat_stat: +9\n",
      " prof: +2\n",
      " expert: +2\n",
      " Has Skill: Yes (+2)\n",
      " Is Expert: Yes (+2)\n",
      "_____\n",
      "Total: +13\n",
      "____________________________________________________________\n",
      "\n",
      "nat_stat 9\n",
      "prof 2\n",
      "expert 0\n",
      "Athletics Skill (Strength): \n",
      "____________________________________________________________\n",
      "____________________________________________________________\n",
      " nat_stat: +9\n",
      " prof: +2\n",
      " expert: +0\n",
      " Has Skill: Yes (+2)\n",
      " Is Expert: No\n",
      "_____\n",
      "Total: +11\n",
      "____________________________________________________________\n",
      "\n",
      "nat_stat 9\n",
      "prof 0\n",
      "expert 0\n",
      "Athletics Skill (Strength): \n",
      "____________________________________________________________\n",
      "____________________________________________________________\n",
      " nat_stat: +9\n",
      " prof: +0\n",
      " expert: +0\n",
      " Has Skill: No\n",
      " Is Expert: No\n",
      "_____\n",
      "Total: +9\n",
      "____________________________________________________________\n",
      "\n",
      "nat_stat 9\n",
      "prof 0\n",
      "expert 0\n",
      "Fun 10\n",
      "Athletics Skill (Strength): \n",
      "____________________________________________________________\n",
      "____________________________________________________________\n",
      " nat_stat: +9\n",
      " prof: +0\n",
      " expert: +0\n",
      " Fun: +10\n",
      " Has Skill: No\n",
      " Is Expert: No\n",
      "_____\n",
      "Total: +19\n",
      "____________________________________________________________\n",
      "\n"
     ]
    }
   ],
   "source": [
    "tProf = charecterAttributes.Stat(\"Proficiency\")\n",
    "tProf.add_base('Fighter',pyHelper.ReferenceNumber(2)\n",
    "               )\n",
    "tAthletics =charecterAttributes.Skill(\"Athletics\",tstrength,tProf) \n",
    "tAthletics.learn()\n",
    "tAthletics.give_expertise()\n",
    "print(tAthletics)\n",
    "tAthletics.unlearn_expertise()\n",
    "print(tAthletics)\n",
    "\n",
    "tAthletics.unlearn()\n",
    "print(tAthletics)\n",
    "\n",
    "tAthletics.add_bonus('Fun',pyHelper.ReferenceNumber(10,True))\n",
    "print(tAthletics)\n"
   ]
  },
  {
   "cell_type": "markdown",
   "metadata": {},
   "source": [
    "# Item Test"
   ]
  },
  {
   "cell_type": "code",
   "execution_count": 2,
   "metadata": {},
   "outputs": [
    {
     "name": "stdout",
     "output_type": "stream",
     "text": [
      "________________________________________________________________________\n",
      "Item Type | Misc\n",
      "Name      | Apple\n",
      "Cost      | 1 sp\n",
      "Weight    | 2.0 lbs\n",
      "Amount    | 1x\n",
      "________________________________________________________________________\n",
      "\n",
      "________________________________________________________________________\n",
      "Item Type | Misc\n",
      "Name      | Pear\n",
      "Cost      | 0 gp\n",
      "Weight    | 4.0 lbs\n",
      "Amount    | 22x\n",
      "________________________________________________________________________\n",
      "\n",
      "________________________________________________________________________\n",
      "Item Type  | Weapon\n",
      "Class      | club\n",
      "Name       | Sword\n",
      "Cost       | 10 gp\n",
      "Damage     | 1d4 Bludgeoning\n",
      "Weight     | 12.0 lbs\n",
      "Properties | killer\n",
      "________________________________________________________________________\n",
      "\n"
     ]
    }
   ],
   "source": [
    "\n",
    "\n",
    "\n",
    "import Scripts.objectF\n",
    "import Scripts.objectF.itemsDnD\n",
    "\n",
    "\n",
    "tApple = Scripts.objectF.itemsDnD.Item(\"Apple\",2,(1,\"sp\"))\n",
    "tPear = Scripts.objectF.itemsDnD.Item(\"Pear\",4)\n",
    "tPear.add_amount(21)\n",
    "tSword = Scripts.objectF.itemsDnD.Weapon('Sword',12,(10,'gp'),(1,4),'Bludgeoning',['killer'],'club')\n",
    "print(tApple)\n",
    "print(tPear)\n",
    "print(tSword)"
   ]
  },
  {
   "cell_type": "code",
   "execution_count": null,
   "metadata": {},
   "outputs": [],
   "source": []
  },
  {
   "cell_type": "code",
   "execution_count": null,
   "metadata": {},
   "outputs": [
    {
     "name": "stdout",
     "output_type": "stream",
     "text": [
      "0\n",
      "ALREADY IN\n",
      "[DnDItem:Apple_Misc]\n"
     ]
    }
   ],
   "source": [
    "\n",
    "str_stat = Scripts.charecterF.charecterAttributes.Stat('Strength')\n",
    "enc = Scripts.charecterF.charecterMechanics.Encumbrance(str_stat)\n",
    "\n",
    "tinventory = Scripts.charecterF.inventory.Inventory(enc)\n",
    "# tinventory.get_money()[0].add(4)\n",
    "tinventory.get_money()\n",
    "print(tinventory.get_weight())\n",
    "tinventory.add_item(tApple.copy())\n",
    "tinventory.add_item(tApple.copy())\n"
   ]
  },
  {
   "cell_type": "markdown",
   "metadata": {},
   "source": [
    "# Test RollDice"
   ]
  },
  {
   "cell_type": "code",
   "execution_count": 6,
   "metadata": {},
   "outputs": [
    {
     "data": {
      "text/plain": [
       "1"
      ]
     },
     "execution_count": 6,
     "metadata": {},
     "output_type": "execute_result"
    }
   ],
   "source": [
    "ruleTools.rollDice(1,4)"
   ]
  },
  {
   "cell_type": "code",
   "execution_count": 26,
   "metadata": {},
   "outputs": [],
   "source": [
    "Trials = 100000\n",
    "data = np.ndarray([Trials])\n",
    "for i in range(Trials):\n",
    "    data[i] = ruleTools.rollDice(1,6)"
   ]
  },
  {
   "cell_type": "code",
   "execution_count": 27,
   "metadata": {},
   "outputs": [
    {
     "data": {
      "text/plain": [
       "(array([16614., 16658., 16654., 16645., 16753., 16676.]),\n",
       " array([1., 2., 3., 4., 5., 6., 7.]),\n",
       " <BarContainer object of 6 artists>)"
      ]
     },
     "execution_count": 27,
     "metadata": {},
     "output_type": "execute_result"
    },
    {
     "data": {
      "image/png": "[encoded data removed]",
      "text/plain": [
       "<Figure size 640x480 with 1 Axes>"
      ]
     },
     "metadata": {},
     "output_type": "display_data"
    }
   ],
   "source": [
    "plt.hist(data,bins=[1,2,3,4,5,6,7])"
   ]
  },
  {
   "cell_type": "code",
   "execution_count": null,
   "metadata": {},
   "outputs": [],
   "source": []
  }
 ],
 "metadata": {
  "kernelspec": {
   "display_name": "aymig",
   "language": "python",
   "name": "python3"
  },
  "language_info": {
   "codemirror_mode": {
    "name": "ipython",
    "version": 3
   },
   "file_extension": ".py",
   "mimetype": "text/x-python",
   "name": "python",
   "nbconvert_exporter": "python",
   "pygments_lexer": "ipython3",
   "version": "3.11.11"
  }
 },
 "nbformat": 4,
 "nbformat_minor": 2
}
