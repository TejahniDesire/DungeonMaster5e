{
 "cells": [
  {
   "cell_type": "code",
   "execution_count": 2,
   "id": "396326cf",
   "metadata": {},
   "outputs": [
    {
     "name": "stdout",
     "output_type": "stream",
     "text": [
      "The autoreload extension is already loaded. To reload it, use:\n",
      "  %reload_ext autoreload\n"
     ]
    }
   ],
   "source": [
    "import Scripts\n",
    "from Scripts.charecterF import charecterMechanics\n",
    "from Scripts.charecterF import charecterAttributes\n",
    "from Scripts.charecterF import charecter, time\n",
    "from Scripts.objectF import pyHelper\n",
    "from Scripts.objectF import dataBase\n",
    "from Scripts.objectF import itemsDnD\n",
    "from Scripts.metaF import directoryCrawler\n",
    "import numpy as np\n",
    "%load_ext autoreload\n",
    "%autoreload 2"
   ]
  },
  {
   "cell_type": "code",
   "execution_count": null,
   "id": "dd45b201",
   "metadata": {},
   "outputs": [
    {
     "name": "stdout",
     "output_type": "stream",
     "text": [
      "Text File Already Exist, Deleting...\n",
      "File '/home/tej/Desktop/Code_Stuff/PRepo/DungeonMaster5e/test.txt' created\n"
     ]
    }
   ],
   "source": [
    "directoryCrawler.createTxtFile('/home/tej/Desktop/Code_Stuff/PRepo/DungeonMaster5e/test.txt',\"\",True)"
   ]
  },
  {
   "cell_type": "markdown",
   "id": "547a09fc",
   "metadata": {},
   "source": [
    "# Saving Function "
   ]
  },
  {
   "cell_type": "code",
   "execution_count": 114,
   "id": "9edbf485",
   "metadata": {},
   "outputs": [
    {
     "name": "stdout",
     "output_type": "stream",
     "text": [
      "Page 'My Title' successfully read.\n",
      "Page 'My Title 2' successfully read.\n",
      "Page 'Starting Weapons' successfully read.\n",
      "Page 'Test Inventory' successfully read.\n"
     ]
    }
   ],
   "source": [
    "DB = dataBase.DataBasePage()\n",
    "DB.readPage('/home/tej/Desktop/Code_Stuff/PRepo/DungeonMaster5e/TestTxts/generic.txt')\n",
    "DB.readPage('/home/tej/Desktop/Code_Stuff/PRepo/DungeonMaster5e/TestTxts/generic2.txt')\n",
    "DB.readPage('/home/tej/Desktop/Code_Stuff/PRepo/DungeonMaster5e/TestTxts/baseWeapons.txt')\n",
    "DB.readPage('/home/tej/Desktop/Code_Stuff/PRepo/DungeonMaster5e/test.txt')\n"
   ]
  },
  {
   "cell_type": "code",
   "execution_count": 75,
   "id": "7fcdd139",
   "metadata": {},
   "outputs": [
    {
     "name": "stdout",
     "output_type": "stream",
     "text": [
      "ALREADY IN\n"
     ]
    },
    {
     "data": {
      "text/plain": [
       "{'Apple': {\"(1, 'sp')-*^*-2.0-*^*-2-*^*-False-*^*-Misc-*^*-\": 0},\n",
       " 'Pear': {\"(0, 'gp')-*^*-4.0-*^*-1-*^*-False-*^*-Misc-*^*-\": 0}}"
      ]
     },
     "execution_count": 75,
     "metadata": {},
     "output_type": "execute_result"
    }
   ],
   "source": [
    "tApple = Scripts.objectF.itemsDnD.Item(\"Apple\",2,(1,\"sp\"))\n",
    "tPear = Scripts.objectF.itemsDnD.Item(\"Pear\",4)\n",
    "tPear.add_amount(21)\n",
    "tSword = Scripts.objectF.itemsDnD.Weapon('Sword',12,(10,'gp'),(1,4),'Bludgeoning',['killer'],'club')\n",
    "\n",
    "str_stat = Scripts.charecterF.charecterAttributes.Stat('Strength')\n",
    "enc = Scripts.charecterF.charecterMechanics.Encumbrance(str_stat)\n",
    "\n",
    "tinventory = Scripts.charecterF.inventory.Inventory(enc)\n",
    "# tinventory.get_money()[0].add(4)\n",
    "tinventory.get_money()\n",
    "# print(tinventory.get_weight())\n",
    "tinventory.add_item(tApple.copy())\n",
    "tinventory.add_item(tApple.copy())\n",
    "tinventory.add_item(tPear.copy())\n",
    "# print(tinventory)\n",
    "tinventory.getItemDictionary()"
   ]
  },
  {
   "cell_type": "code",
   "execution_count": 111,
   "id": "2b8c177c",
   "metadata": {},
   "outputs": [
    {
     "name": "stdout",
     "output_type": "stream",
     "text": [
      "Page 'Test Inventory' successfully Created.\n"
     ]
    }
   ],
   "source": [
    "DB.AddPage(tinventory.getItemDictionary(),\"Test Inventory\",'/home/tej/Desktop/Code_Stuff/PRepo/DungeonMaster5e/test.txt',replace_old=True)"
   ]
  },
  {
   "cell_type": "code",
   "execution_count": 112,
   "id": "3fcd65ea",
   "metadata": {},
   "outputs": [
    {
     "name": "stdout",
     "output_type": "stream",
     "text": [
      "1) Apple\n",
      "      a) (1, 'sp')-*^*-2.0-*^*-2-*^*-False-*^*-Misc-*^*-\n",
      "2) Pear\n",
      "      a) (0, 'gp')-*^*-4.0-*^*-1-*^*-False-*^*-Misc-*^*-\n"
     ]
    }
   ],
   "source": [
    "print(DB.getPage('Test Inventory').recursiveStringPrint())"
   ]
  },
  {
   "cell_type": "code",
   "execution_count": 104,
   "id": "c0fca642",
   "metadata": {},
   "outputs": [
    {
     "data": {
      "text/plain": [
       "dict_keys(['&', '&2'])"
      ]
     },
     "execution_count": 104,
     "metadata": {},
     "output_type": "execute_result"
    }
   ],
   "source": [
    "DB.getPage(title=\"My Title 2\").keys()"
   ]
  },
  {
   "cell_type": "code",
   "execution_count": 113,
   "id": "d4d97599",
   "metadata": {},
   "outputs": [
    {
     "name": "stdout",
     "output_type": "stream",
     "text": [
      "Text File Already Exist, Deleting...\n",
      "File '/home/tej/Desktop/Code_Stuff/PRepo/DungeonMaster5e/test.txt' created\n"
     ]
    }
   ],
   "source": [
    "DB.writePage(title=\"Test Inventory\")"
   ]
  },
  {
   "cell_type": "code",
   "execution_count": 35,
   "id": "d087040c",
   "metadata": {},
   "outputs": [
    {
     "data": {
      "text/plain": [
       "'12'"
      ]
     },
     "execution_count": 35,
     "metadata": {},
     "output_type": "execute_result"
    }
   ],
   "source": [
    "''.join(filter(str.isalnum, \"1&2\"))"
   ]
  },
  {
   "cell_type": "code",
   "execution_count": 39,
   "id": "2156fe8b",
   "metadata": {},
   "outputs": [
    {
     "data": {
      "text/plain": [
       "'&&'"
      ]
     },
     "execution_count": 39,
     "metadata": {},
     "output_type": "execute_result"
    }
   ],
   "source": [
    "pyHelper.keep_only_char(input_string,'&')"
   ]
  },
  {
   "cell_type": "code",
   "execution_count": 36,
   "id": "e06d9458",
   "metadata": {},
   "outputs": [
    {
     "data": {
      "text/plain": [
       "'&&'"
      ]
     },
     "execution_count": 36,
     "metadata": {},
     "output_type": "execute_result"
    }
   ],
   "source": [
    "input_string = '1afaf2&&2'\n",
    "''.join([char for char in input_string if char == \"&\"])"
   ]
  },
  {
   "cell_type": "code",
   "execution_count": 32,
   "id": "f655fdad",
   "metadata": {},
   "outputs": [
    {
     "data": {
      "text/plain": [
       "dict_keys(['&', '&2'])"
      ]
     },
     "execution_count": 32,
     "metadata": {},
     "output_type": "execute_result"
    }
   ],
   "source": [
    "DB.getPage('Test Inventory').keys()"
   ]
  },
  {
   "cell_type": "code",
   "execution_count": 115,
   "id": "f724345b",
   "metadata": {},
   "outputs": [
    {
     "name": "stdout",
     "output_type": "stream",
     "text": [
      "1) Apple\n",
      "      a) (1, 'sp')-*^*-2.0-*^*-2-*^*-False-*^*-Misc-*^*-\n",
      "2) Pear\n",
      "      a) (0, 'gp')-*^*-4.0-*^*-1-*^*-False-*^*-Misc-*^*-\n"
     ]
    }
   ],
   "source": [
    "print(DB.getPage('Test Inventory').recursiveStringPrint())"
   ]
  },
  {
   "cell_type": "code",
   "execution_count": null,
   "id": "fe967c27",
   "metadata": {},
   "outputs": [
    {
     "name": "stdout",
     "output_type": "stream",
     "text": [
      "1) Apple\n",
      "      a) (1, 'sp')-*^*-2.0-*^*-2-*^*-False-*^*-Misc-*^*-\n",
      "2) Pear\n",
      "      a) (0, 'gp')-*^*-4.0-*^*-1-*^*-False-*^*-Misc-*^*-\n"
     ]
    }
   ],
   "source": [
    "print(DB.getPage('Test Inventory').recursiveStringPrint())"
   ]
  },
  {
   "cell_type": "code",
   "execution_count": null,
   "id": "d27a7989",
   "metadata": {},
   "outputs": [
    {
     "name": "stdout",
     "output_type": "stream",
     "text": [
      "Text File Already Exist, Deleting...\n",
      "File '/home/tej/Desktop/Code_Stuff/PRepo/DungeonMaster5e/test.txt' created\n"
     ]
    }
   ],
   "source": [
    "file_dir = '/home/tej/Desktop/Code_Stuff/PRepo/DungeonMaster5e/test.txt'\n",
    "directoryCrawler.createTxtFile(file_dir,\"\",True)\n",
    "tdict = dataBase.convertStrDict(tinventory.getItemDictionary(),file_dir=file_dir,title=\"Test Inventory\")\n"
   ]
  },
  {
   "cell_type": "code",
   "execution_count": 18,
   "id": "0c49c7c7",
   "metadata": {},
   "outputs": [
    {
     "data": {
      "text/plain": [
       "dict_keys(['&', '&1'])"
      ]
     },
     "execution_count": 18,
     "metadata": {},
     "output_type": "execute_result"
    }
   ],
   "source": [
    "tdict.keys()"
   ]
  },
  {
   "cell_type": "code",
   "execution_count": 22,
   "id": "4893f45d",
   "metadata": {},
   "outputs": [
    {
     "name": "stdout",
     "output_type": "stream",
     "text": [
      "1) Apple\n",
      "      a) (1, 'sp')-*^*-2.0-*^*-2-*^*-False-*^*-Misc-*^*-\n",
      "2) Pear\n",
      "      a) (0, 'gp')-*^*-4.0-*^*-1-*^*-False-*^*-Misc-*^*-\n"
     ]
    }
   ],
   "source": [
    "print(tdict.recursiveStringPrint())"
   ]
  },
  {
   "cell_type": "code",
   "execution_count": null,
   "id": "8c46030e",
   "metadata": {},
   "outputs": [
    {
     "name": "stdout",
     "output_type": "stream",
     "text": [
      "DAFUQ?BOOM!!\n"
     ]
    }
   ],
   "source": [
    "class stupid:\n",
    "\n",
    "    def __init__(self):\n",
    "        self.x = 3\n",
    "    \n",
    "    def printGreeting(self):\n",
    "        print(\"Hi\")\n",
    "\n",
    "    def talk(self):\n",
    "        self.printGreeting()\n",
    "\n",
    "class stupid2(stupid):\n",
    "    \n",
    "    def __init__(self):\n",
    "        super().__init__()\n",
    "\n",
    "    def printGreeting(self):\n",
    "        print(\"DAFUQ?BOOM!!\")\n",
    "\n",
    "ts = stupid2()\n",
    "ts.talk()"
   ]
  },
  {
   "cell_type": "code",
   "execution_count": 134,
   "id": "efaba59f",
   "metadata": {},
   "outputs": [
    {
     "data": {
      "text/plain": [
       "' '"
      ]
     },
     "execution_count": 134,
     "metadata": {},
     "output_type": "execute_result"
    }
   ],
   "source": [
    "string = 'affa/asfa d '\n",
    "string[-1]"
   ]
  },
  {
   "cell_type": "code",
   "execution_count": 4,
   "id": "06672108",
   "metadata": {},
   "outputs": [
    {
     "name": "stdout",
     "output_type": "stream",
     "text": [
      "DDD (1, 4)\n",
      "________________________________________________________________________\n",
      "Item Type  | Weapon\n",
      "Class      | club\n",
      "Name       | Sword\n",
      "Cost       | 20 gp\n",
      "Damage     | 1d4 Bludgeoning\n",
      "Weight     | 12.0 lbs\n",
      "Properties | killer, stiller\n",
      "________________________________________________________________________\n",
      "\n",
      "________________________________________________________________________\n",
      "Item Type  | Weapon\n",
      "Class      | club\n",
      "Name       | Sword\n",
      "Cost       | 20 gp\n",
      "Damage     | 1d4 Bludgeoning\n",
      "Weight     | 12.0 lbs\n",
      "Properties | killer, stiller\n",
      "________________________________________________________________________\n",
      "\n"
     ]
    }
   ],
   "source": [
    "tSword = Scripts.objectF.itemsDnD.Weapon('Sword',12,(20,'gp'),(1,4),'Bludgeoning',['killer','stiller'],'club')\n",
    "\n",
    "name,props = tSword.save_text()\n",
    "\n",
    "newTSword =itemsDnD.loadGenItem(name,props)\n",
    "print(tSword)\n",
    "print(newTSword)"
   ]
  },
  {
   "cell_type": "code",
   "execution_count": 117,
   "id": "cfbff8f6",
   "metadata": {},
   "outputs": [
    {
     "name": "stdout",
     "output_type": "stream",
     "text": [
      "________________________________________________________________________\n",
      "Item Type | Misc\n",
      "Name      | apple\n",
      "Cost      | 30 sp\n",
      "Weight    | 10.0 lbs\n",
      "Amount    | 4x\n",
      "________________________________________________________________________\n",
      "\n",
      "________________________________________________________________________\n",
      "Item Type | Misc\n",
      "Name      | apple\n",
      "Cost      | 30 sp\n",
      "Weight    | 10.0 lbs\n",
      "Amount    | 4x\n",
      "________________________________________________________________________\n",
      "\n"
     ]
    }
   ],
   "source": [
    "Test_apple = itemsDnD.Item(\"apple\",10,(30,'sp'),'Misc')\n",
    "Test_apple.equip()\n",
    "Test_apple.add_amount(3)\n",
    "name,props = Test_apple.save_text()\n",
    "\n",
    "newApple = itemsDnD.loadItem(name,props)\n",
    "print(Test_apple)\n",
    "print(newApple)"
   ]
  },
  {
   "cell_type": "markdown",
   "id": "09304165",
   "metadata": {},
   "source": [
    "# Page, Copying, Merging "
   ]
  },
  {
   "cell_type": "code",
   "execution_count": 61,
   "id": "3d90ad7f",
   "metadata": {},
   "outputs": [
    {
     "name": "stdout",
     "output_type": "stream",
     "text": [
      "Page 'My Title' successfully read.\n",
      "Page 'My Title 2' successfully read.\n",
      "Page 'Starting Weapons' successfully read.\n"
     ]
    }
   ],
   "source": [
    "DB = dataBase.DataBasePage()\n",
    "DB.readPage('/home/tej/Desktop/Code_Stuff/PRepo/DungeonMaster5e/TestTxts/generic.txt')\n",
    "DB.readPage('/home/tej/Desktop/Code_Stuff/PRepo/DungeonMaster5e/TestTxts/generic2.txt')\n",
    "DB.readPage('/home/tej/Desktop/Code_Stuff/PRepo/DungeonMaster5e/TestTxts/baseWeapons.txt')"
   ]
  },
  {
   "cell_type": "code",
   "execution_count": 23,
   "id": "81c3f186",
   "metadata": {},
   "outputs": [
    {
     "name": "stdout",
     "output_type": "stream",
     "text": [
      "[1, 2, 3]\n"
     ]
    }
   ],
   "source": [
    "t1 = [1,2,3] \n",
    "t1 + [1]\n",
    "print(t1)"
   ]
  },
  {
   "cell_type": "code",
   "execution_count": null,
   "id": "db1238c6",
   "metadata": {},
   "outputs": [
    {
     "data": {
      "text/plain": [
       "ViewerDict with value \"My Title\", and \"2\" entries"
      ]
     },
     "execution_count": 21,
     "metadata": {},
     "output_type": "execute_result"
    }
   ],
   "source": [
    "copyPG['&2']['&&']['&&&']['&&&&']"
   ]
  },
  {
   "cell_type": "code",
   "execution_count": 64,
   "id": "a02a355d",
   "metadata": {},
   "outputs": [
    {
     "data": {
      "text/plain": [
       "'generic.txt'"
      ]
     },
     "execution_count": 64,
     "metadata": {},
     "output_type": "execute_result"
    }
   ],
   "source": [
    "DB.getPage('my title').getTextDir()"
   ]
  },
  {
   "cell_type": "code",
   "execution_count": null,
   "id": "fc8cc372",
   "metadata": {},
   "outputs": [
    {
     "name": "stdout",
     "output_type": "stream",
     "text": [
      "1) largest categorie delineator\n",
      "      a) this will be subsurvient to the first lesser & that came its way\n",
      "2) largest categorie, second entry\n",
      "      a) smaller for second \n",
      "         but continued on second\n",
      "            A) hidden third message, tell no one!\n",
      "\n",
      "1) largest categorie delineator\n",
      "      a) this will be subsurvient to the first lesser & that came its way\n",
      "2) largest categorie, second entry\n",
      "      a) smaller for second \n",
      "         but continued on second\n",
      "            A) hidden third message, tell no one!\n",
      "                  1) Oh You Know\n"
     ]
    }
   ],
   "source": [
    "copyPG = DB.getPage('my title').recursiveCopy()\n",
    "copyPG[1][0][0][\"&&&&\"] = \"Oh You Know\"\n",
    "print(DB.getPage('my title').recursiveStringPrint())\n",
    "print()\n",
    "print(copyPG.recursiveStringPrint())"
   ]
  },
  {
   "cell_type": "code",
   "execution_count": 47,
   "id": "f606991e",
   "metadata": {},
   "outputs": [
    {
     "name": "stdout",
     "output_type": "stream",
     "text": [
      "1) largest categorie delineator\n",
      "      a) this will be subsurvient to the first lesser & that came its way\n",
      "2) largest categorie, second entry\n",
      "      a) smaller for second \n",
      "         but continued on second\n",
      "            A) hidden third message, tell no one!\n",
      "                  1) Oh You Don't Know\n"
     ]
    }
   ],
   "source": [
    "DB.getPage('my title')[1][0][0][\"&&&\"] = \"Oh You Don't Know\"\n",
    "print(DB.getPage('my title').recursiveStringPrint())"
   ]
  },
  {
   "cell_type": "code",
   "execution_count": 48,
   "id": "23bd6743",
   "metadata": {},
   "outputs": [],
   "source": [
    "keys, parents = DB.getPage('my title')[0][0].getAllParents()"
   ]
  },
  {
   "cell_type": "code",
   "execution_count": 49,
   "id": "5a88e128",
   "metadata": {},
   "outputs": [
    {
     "data": {
      "text/plain": [
       "array([ViewerDict with value \"My Title\", and \"2\" entries,\n",
       "       ViewerDict with value \"largest categorie delineator\", and \"1\" entries,\n",
       "       ViewerDict with value \"this will be subsurvient to the first lesser & that came its way\", and \"0\" entries],\n",
       "      dtype=object)"
      ]
     },
     "execution_count": 49,
     "metadata": {},
     "output_type": "execute_result"
    }
   ],
   "source": [
    "parents"
   ]
  },
  {
   "cell_type": "code",
   "execution_count": 50,
   "id": "be3fa4e6",
   "metadata": {},
   "outputs": [
    {
     "data": {
      "text/plain": [
       "(array([], dtype=float64),\n",
       " array([ViewerDict with value \"My Title\", and \"2\" entries], dtype=object))"
      ]
     },
     "execution_count": 50,
     "metadata": {},
     "output_type": "execute_result"
    }
   ],
   "source": [
    "DB.getPage('my title').getAllParents()"
   ]
  },
  {
   "cell_type": "code",
   "execution_count": 51,
   "id": "f8002521",
   "metadata": {},
   "outputs": [
    {
     "name": "stdout",
     "output_type": "stream",
     "text": [
      "1) largest categorie delineator\n",
      "      a) this will be subsurvient to the first lesser & that came its way\n",
      "2) largest categorie, second entry\n",
      "      a) smaller for second \n",
      "         but continued on second\n",
      "            A) hidden third message, tell no one!\n",
      "                  1) Oh You Don't Know\n"
     ]
    }
   ],
   "source": [
    "print(DB.getPage('my title').recursiveStringPrint())"
   ]
  },
  {
   "cell_type": "code",
   "execution_count": 59,
   "id": "7aa3be7d",
   "metadata": {},
   "outputs": [],
   "source": [
    "twoPages = DB.combinePages(['My Title','My Title 2','Starting Weapons'])"
   ]
  },
  {
   "cell_type": "code",
   "execution_count": 53,
   "id": "3208264c",
   "metadata": {},
   "outputs": [
    {
     "data": {
      "text/plain": [
       "ViewerDict with value \"hidden third message, tell no one!\", and \"1\" entries"
      ]
     },
     "execution_count": 53,
     "metadata": {},
     "output_type": "execute_result"
    }
   ],
   "source": [
    "twoPages[0][1][0][0]"
   ]
  },
  {
   "cell_type": "code",
   "execution_count": 54,
   "id": "a717e4bd",
   "metadata": {},
   "outputs": [
    {
     "data": {
      "text/plain": [
       "'`) '"
      ]
     },
     "execution_count": 54,
     "metadata": {},
     "output_type": "execute_result"
    }
   ],
   "source": [
    "dataBase.noteBookOrder(0,type='Number') + ') '"
   ]
  },
  {
   "cell_type": "code",
   "execution_count": 55,
   "id": "b5cca3b7",
   "metadata": {},
   "outputs": [
    {
     "data": {
      "text/plain": [
       "dict_keys(['1', '2'])"
      ]
     },
     "execution_count": 55,
     "metadata": {},
     "output_type": "execute_result"
    }
   ],
   "source": [
    "twoPages.keys()"
   ]
  },
  {
   "cell_type": "code",
   "execution_count": 56,
   "id": "d9257c1f",
   "metadata": {},
   "outputs": [
    {
     "data": {
      "text/plain": [
       "dict_keys(['1', '2'])"
      ]
     },
     "execution_count": 56,
     "metadata": {},
     "output_type": "execute_result"
    }
   ],
   "source": [
    "twoPages.keys()"
   ]
  },
  {
   "cell_type": "code",
   "execution_count": 57,
   "id": "02771d90",
   "metadata": {},
   "outputs": [
    {
     "data": {
      "text/plain": [
       "[]"
      ]
     },
     "execution_count": 57,
     "metadata": {},
     "output_type": "execute_result"
    }
   ],
   "source": [
    "tarr = []\n",
    "tarr += []\n",
    "tarr"
   ]
  },
  {
   "cell_type": "code",
   "execution_count": 35,
   "id": "1f20297b",
   "metadata": {},
   "outputs": [
    {
     "data": {
      "text/plain": [
       "2"
      ]
     },
     "execution_count": 35,
     "metadata": {},
     "output_type": "execute_result"
    }
   ],
   "source": [
    "twoPages[1].max_depth"
   ]
  },
  {
   "cell_type": "code",
   "execution_count": 60,
   "id": "a8350cde",
   "metadata": {},
   "outputs": [
    {
     "name": "stdout",
     "output_type": "stream",
     "text": [
      "1) My Title\n",
      "      a) largest categorie delineator\n",
      "            A) this will be subsurvient to the first lesser & that came its way\n",
      "      b) largest categorie, second entry\n",
      "            A) smaller for second \n",
      "               but continued on second\n",
      "                  1) hidden third message, tell no one!\n",
      "                        a) Oh You Don't Know\n",
      "2) My Title 2\n",
      "      a) largest categorie delineator\n",
      "            A) this will be subsurvient to the first lesser & that came its way\n",
      "      b) largest categorie, second entry\n",
      "            A) smaller for second\n",
      "               but continued on second\n",
      "                  1) hidden third message, tell no one!\n",
      "3) Starting Weapons\n",
      "      a) Simple Melee Weapons\n",
      "            A) Club\n",
      "                  1) 1_sp \t1d4 \tbludgeoning \t2 \tlight\n",
      "            B) Dagger\n",
      "                  1) 2_gp \t1d4 \tpiercing \t1 \tFinesse-Light-Thrown(20/60)\n",
      "            C) Greatclub\n",
      "                  1) 2_sp \t1d8 \tbludgeoning \t10 \tTwo_handed\n",
      "            D) Handaxe\n",
      "                  1) 5_gp \t1d6 \tslashing \t2 \tLight-Thrown(20/60)\n",
      "            E) Javelin\n",
      "                  1) 5_sp \t1d6 \tpiercing \t2 \tThrown(30/120)\n",
      "            F) Light_Hammer\n",
      "                  1) 2_gp \t1d4 \tbludgeoning \t2 \tLight-Thrown(20/60)\n",
      "            G) Mace\n",
      "                  1) 5_gp \t1d6 \tbludgeoning \t4\tNone\n",
      "            H) Quarterstaff\n",
      "                  1) 2_sp \t1d6 \tbludgeoning \t4 \tVersatile(1d8)\n",
      "            I) Sickle\n",
      "                  1) 1_gp \t1d4 \tslashing \t2 \tLight\n",
      "            J) Spear\n",
      "                  1) 1_gp \t1d6 \tpiercing \t3 \tThrown(20/60)-Versatile(1d8)\n",
      "      b) Simple Ranged Weapons\n",
      "            A) Light_Crossbow\n",
      "                  1) 25_gp \t1d8 \tpiercing \t5 \tAmmunition(80/320)-Loading-Two_Handed\n",
      "            B) Dart\n",
      "                  1) 5_cp \t1d4 \tpiercing \t1/4 \tFinesse-Thrown(20/60)\n",
      "            C) Shortbow\n",
      "                  1) 25_gp \t1d6 \tpiercing \t2 \tAmmunition(80/320)-Two_Handed\n",
      "            D) Sling\n",
      "                  1) 1_sp \t1d4 \tbludgeoning \t0\tAmmunition(30/120)\n",
      "      c) Martial Melee Weapons\n",
      "            A) Battleaxe\n",
      "                  1) 10_gp \t1d8 \tslashing \t4 \tVersatile (1d10)\n",
      "            B) Flail\n",
      "                  1) 10_gp \t1d8 \tbludgeoning \t2 \tNone\n",
      "            C) Glaive\n",
      "                  1) 20_gp \t1d10 \tslashing \t6 \tHeavy, reach, two-handed\n",
      "            D) Greataxe\n",
      "                  1) 30_gp \t1d12 \tslashing \t7 \tHeavy, two-handed\n",
      "            E) Greatsword\n",
      "                  1) 50_gp \t2d6 \tslashing \t6  \tHeavy, two-handed\n",
      "            F) Halberd\n",
      "                  1) 20_gp \t1d10 \tslashing \t6  \tHeavy, reach, two-handed\n",
      "            G) Lance\n",
      "                  1) 10_gp \t1d12 \tpiercing \t6  \tReach, special\n",
      "            H) Longsword\n",
      "                  1) 15_gp \t1d8 \tslashing \t3  \tVersatile (1d10)\n",
      "            I) Maul\n",
      "                  1) 10_gp \t2d6 \tbludgeoning \t10  \tHeavy, two-handed\n",
      "            J) Morningstar\n",
      "                  1) 15_gp \t1d8 \tpiercing \t4  \tNone\n",
      "            K) Pike\n",
      "                  1) 5_gp \t1d10 \tpiercing \t18  \tHeavy, reach, two-handed\n",
      "            L) Rapier\n",
      "                  1) 25_gp \t1d8 \tpiercing \t2  \tFinesse\n",
      "            M) Scimitar\n",
      "                  1) 25_gp \t1d6 \tslashing \t3  \tFinesse, light\n",
      "            N) Shortsword\n",
      "                  1) 10_gp \t1d6 \tpiercing \t2  \tFinesse, light\n",
      "            O) Trident\n",
      "                  1) 5_gp \t1d6 \tpiercing \t4  \tThrown (range 20/60), versatile (1d8)\n",
      "            P) War_pick\n",
      "                  1) 5_gp \t1d8 \tpiercing \t2  \tNone\n",
      "            Q) Warhammer\n",
      "                  1) 15_gp \t1d8 \tbludgeoning \t2  \tVersatile (1d10)\n",
      "            R) Whip\n",
      "                  1) 2_gp \t1d4 \tslashing \t3  \tFinesse, reach\n",
      "      d) Martial Ranged Weapons\n",
      "            A) Blowgun\n",
      "                  1) 10_gp \t1d1 \tpiercing \t1 \tAmmunition(25/100)-Loading\n",
      "            B) Hand_Crossbow\n",
      "                  1) 75_gp \t1d6 \tpiercing \t3 \tAmmunition(30/120)-Light-Loading\n",
      "            C) Heavy_Crossbow\n",
      "                  1) 50_gp \t1d10 \tpiercing \t18 \tAmmunition(100/400)-Heavy-Loading-Two_Handed\n",
      "            D) Longbow\n",
      "                  1) 50_gp \t1d8 \tpiercing \t2 \tAmmunition(150/600)-Heavy-Two_Handed\n",
      "            E) Net\n",
      "                  1) 1_gp \t0d1 \tNone\t\t3 \tSpecial-Thrown(5/15)\n"
     ]
    }
   ],
   "source": [
    "print(twoPages.recursiveStringPrint())\n"
   ]
  },
  {
   "cell_type": "code",
   "execution_count": 141,
   "id": "1a8f3d54",
   "metadata": {},
   "outputs": [
    {
     "data": {
      "text/plain": [
       "(['light_hammer',\n",
       "  'light_crossbow',\n",
       "  'war_pick',\n",
       "  'hand_crossbow',\n",
       "  'heavy_crossbow'],\n",
       " [ViewerDict with value \"Light_Hammer\", and \"1\" entries,\n",
       "  ViewerDict with value \"Light_Crossbow\", and \"1\" entries,\n",
       "  ViewerDict with value \"War_pick\", and \"1\" entries,\n",
       "  ViewerDict with value \"Hand_Crossbow\", and \"1\" entries,\n",
       "  ViewerDict with value \"Heavy_Crossbow\", and \"1\" entries])"
      ]
     },
     "execution_count": 141,
     "metadata": {},
     "output_type": "execute_result"
    }
   ],
   "source": [
    "results,viwers = DB.getPage('Starting Weapons').searchValueOfDepth(\" \",1)\n",
    "results,viwers"
   ]
  },
  {
   "cell_type": "code",
   "execution_count": 144,
   "id": "1916bde3",
   "metadata": {},
   "outputs": [
    {
     "data": {
      "text/plain": [
       "ViewerDict with value \"2_gp \t1d4 \tbludgeoning \t2 \tLight-Thrown(20/60)\", and \"0\" entries"
      ]
     },
     "execution_count": 144,
     "metadata": {},
     "output_type": "execute_result"
    }
   ],
   "source": [
    "viwers[0][0]"
   ]
  },
  {
   "cell_type": "code",
   "execution_count": 95,
   "id": "140cded2",
   "metadata": {},
   "outputs": [],
   "source": [
    "lists = DB.getPage('Starting Weapons').recursiveValueList(1)"
   ]
  },
  {
   "cell_type": "code",
   "execution_count": 133,
   "id": "c25e89c4",
   "metadata": {},
   "outputs": [
    {
     "ename": "AttributeError",
     "evalue": "'ViewerDict' object has no attribute 'recursiveSearch'",
     "output_type": "error",
     "traceback": [
      "\u001b[0;31m---------------------------------------------------------------------------\u001b[0m",
      "\u001b[0;31mAttributeError\u001b[0m                            Traceback (most recent call last)",
      "Cell \u001b[0;32mIn[133], line 1\u001b[0m\n\u001b[0;32m----> 1\u001b[0m DB\u001b[38;5;241m.\u001b[39mgetPage(\u001b[38;5;124m'\u001b[39m\u001b[38;5;124mStarting Weapons\u001b[39m\u001b[38;5;124m'\u001b[39m)\u001b[38;5;241m.\u001b[39mrecursiveSearch(\u001b[38;5;124m\"\u001b[39m\u001b[38;5;124m\"\u001b[39m,desired_depth\u001b[38;5;241m=\u001b[39m\u001b[38;5;241m1\u001b[39m)\n",
      "\u001b[0;31mAttributeError\u001b[0m: 'ViewerDict' object has no attribute 'recursiveSearch'"
     ]
    }
   ],
   "source": [
    "DB.getPage('Starting Weapons').recursiveSearch(\"\",desired_depth=1)"
   ]
  },
  {
   "cell_type": "code",
   "execution_count": 31,
   "id": "40335833",
   "metadata": {},
   "outputs": [
    {
     "name": "stdout",
     "output_type": "stream",
     "text": [
      "1) Starting Weapons\n",
      "      a) Simple Melee Weapons\n",
      "            A) Club\n",
      "                  1) 1_sp \t1d4 \tbludgeoning \t2 \tlight\n",
      "            B) Dagger\n",
      "                  1) 2_gp \t1d4 \tpiercing \t1 \tFinesse-Light-Thrown(20/60)\n",
      "            C) Greatclub\n",
      "                  1) 2_sp \t1d8 \tbludgeoning \t10 \tTwo_handed\n",
      "            D) Handaxe\n",
      "                  1) 5_gp \t1d6 \tslashing \t2 \tLight-Thrown(20/60)\n",
      "            E) Javelin\n",
      "                  1) 5_sp \t1d6 \tpiercing \t2 \tThrown(30/120)\n",
      "            F) Light_Hammer\n",
      "                  1) 2_gp \t1d4 \tbludgeoning \t2 \tLight-Thrown(20/60)\n",
      "            G) Mace\n",
      "                  1) 5_gp \t1d6 \tbludgeoning \t4\tNone\n",
      "            H) Quarterstaff\n",
      "                  1) 2_sp \t1d6 \tbludgeoning \t4 \tVersatile(1d8)\n",
      "            I) Sickle\n",
      "                  1) 1_gp \t1d4 \tslashing \t2 \tLight\n",
      "            J) Spear\n",
      "                  1) 1_gp \t1d6 \tpiercing \t3 \tThrown(20/60)-Versatile(1d8)\n",
      "      b) Simple Ranged Weapons\n",
      "            A) Light_Crossbow\n",
      "                  1) 25_gp \t1d8 \tpiercing \t5 \tAmmunition(80/320)-Loading-Two_Handed\n",
      "            B) Dart\n",
      "                  1) 5_cp \t1d4 \tpiercing \t1/4 \tFinesse-Thrown(20/60)\n",
      "            C) Shortbow\n",
      "                  1) 25_gp \t1d6 \tpiercing \t2 \tAmmunition(80/320)-Two_Handed\n",
      "            D) Sling\n",
      "                  1) 1_sp \t1d4 \tbludgeoning \t0\tAmmunition(30/120)\n",
      "      c) Martial Melee Weapons\n",
      "            A) Battleaxe\n",
      "                  1) 10_gp \t1d8 \tslashing \t4 \tVersatile (1d10)\n",
      "            B) Flail\n",
      "                  1) 10_gp \t1d8 \tbludgeoning \t2 \tNone\n",
      "            C) Glaive\n",
      "                  1) 20_gp \t1d10 \tslashing \t6 \tHeavy, reach, two-handed\n",
      "            D) Greataxe\n",
      "                  1) 30_gp \t1d12 \tslashing \t7 \tHeavy, two-handed\n",
      "            E) Greatsword\n",
      "                  1) 50_gp \t2d6 \tslashing \t6  \tHeavy, two-handed\n",
      "            F) Halberd\n",
      "                  1) 20_gp \t1d10 \tslashing \t6  \tHeavy, reach, two-handed\n",
      "            G) Lance\n",
      "                  1) 10_gp \t1d12 \tpiercing \t6  \tReach, special\n",
      "            H) Longsword\n",
      "                  1) 15_gp \t1d8 \tslashing \t3  \tVersatile (1d10)\n",
      "            I) Maul\n",
      "                  1) 10_gp \t2d6 \tbludgeoning \t10  \tHeavy, two-handed\n",
      "            J) Morningstar\n",
      "                  1) 15_gp \t1d8 \tpiercing \t4  \tNone\n",
      "            K) Pike\n",
      "                  1) 5_gp \t1d10 \tpiercing \t18  \tHeavy, reach, two-handed\n",
      "            L) Rapier\n",
      "                  1) 25_gp \t1d8 \tpiercing \t2  \tFinesse\n",
      "            M) Scimitar\n",
      "                  1) 25_gp \t1d6 \tslashing \t3  \tFinesse, light\n",
      "            N) Shortsword\n",
      "                  1) 10_gp \t1d6 \tpiercing \t2  \tFinesse, light\n",
      "            O) Trident\n",
      "                  1) 5_gp \t1d6 \tpiercing \t4  \tThrown (range 20/60), versatile (1d8)\n",
      "            P) War_pick\n",
      "                  1) 5_gp \t1d8 \tpiercing \t2  \tNone\n",
      "            Q) Warhammer\n",
      "                  1) 15_gp \t1d8 \tbludgeoning \t2  \tVersatile (1d10)\n",
      "            R) Whip\n",
      "                  1) 2_gp \t1d4 \tslashing \t3  \tFinesse, reach\n",
      "      d) Martial Ranged Weapons\n",
      "            A) Blowgun\n",
      "                  1) 10_gp \t1d1 \tpiercing \t1 \tAmmunition(25/100)-Loading\n",
      "            B) Hand_Crossbow\n",
      "                  1) 75_gp \t1d6 \tpiercing \t3 \tAmmunition(30/120)-Light-Loading\n",
      "            C) Heavy_Crossbow\n",
      "                  1) 50_gp \t1d10 \tpiercing \t18 \tAmmunition(100/400)-Heavy-Loading-Two_Handed\n",
      "            D) Longbow\n",
      "                  1) 50_gp \t1d8 \tpiercing \t2 \tAmmunition(150/600)-Heavy-Two_Handed\n",
      "            E) Net\n",
      "                  1) 1_gp \t0d1 \tNone\t\t3 \tSpecial-Thrown(5/15)\n"
     ]
    }
   ],
   "source": [
    "print(DB.getPage('Starting Weapons').recursiveStringPrint())"
   ]
  },
  {
   "cell_type": "code",
   "execution_count": null,
   "id": "b1a6a449",
   "metadata": {},
   "outputs": [
    {
     "data": {
      "text/plain": [
       "''"
      ]
     },
     "execution_count": 273,
     "metadata": {},
     "output_type": "execute_result"
    }
   ],
   "source": [
    "re.sub(r'\\D', '', t)"
   ]
  },
  {
   "cell_type": "code",
   "execution_count": null,
   "id": "c342d67b",
   "metadata": {},
   "outputs": [
    {
     "data": {
      "text/plain": [
       "''"
      ]
     },
     "execution_count": 274,
     "metadata": {},
     "output_type": "execute_result"
    }
   ],
   "source": [
    "re.sub(r'\\D', '', t)"
   ]
  },
  {
   "cell_type": "code",
   "execution_count": null,
   "id": "8afaf9fb",
   "metadata": {},
   "outputs": [
    {
     "data": {
      "text/plain": [
       "1"
      ]
     },
     "execution_count": 221,
     "metadata": {},
     "output_type": "execute_result"
    }
   ],
   "source": [
    "53%26"
   ]
  },
  {
   "cell_type": "code",
   "execution_count": null,
   "id": "8d0418d3",
   "metadata": {},
   "outputs": [
    {
     "data": {
      "text/plain": [
       "2"
      ]
     },
     "execution_count": 216,
     "metadata": {},
     "output_type": "execute_result"
    }
   ],
   "source": [
    "int(52/26)"
   ]
  },
  {
   "cell_type": "code",
   "execution_count": null,
   "id": "81b89d38",
   "metadata": {},
   "outputs": [],
   "source": []
  },
  {
   "cell_type": "code",
   "execution_count": null,
   "id": "0d708e5c",
   "metadata": {},
   "outputs": [
    {
     "data": {
      "text/plain": [
       "'A1'"
      ]
     },
     "execution_count": 231,
     "metadata": {},
     "output_type": "execute_result"
    }
   ],
   "source": [
    "numberToLetter(27,capital=True)"
   ]
  },
  {
   "cell_type": "code",
   "execution_count": null,
   "id": "330eae27",
   "metadata": {},
   "outputs": [
    {
     "ename": "ValueError",
     "evalue": "invalid literal for int() with base 10: ''",
     "output_type": "error",
     "traceback": [
      "\u001b[0;31m---------------------------------------------------------------------------\u001b[0m",
      "\u001b[0;31mValueError\u001b[0m                                Traceback (most recent call last)",
      "Cell \u001b[0;32mIn[195], line 1\u001b[0m\n\u001b[0;32m----> 1\u001b[0m \u001b[38;5;28mint\u001b[39m(\u001b[38;5;124m'\u001b[39m\u001b[38;5;124m'\u001b[39m)\n",
      "\u001b[0;31mValueError\u001b[0m: invalid literal for int() with base 10: ''"
     ]
    }
   ],
   "source": [
    "int('')"
   ]
  },
  {
   "cell_type": "code",
   "execution_count": null,
   "id": "76f83d9d",
   "metadata": {},
   "outputs": [
    {
     "data": {
      "text/plain": [
       "2"
      ]
     },
     "execution_count": 261,
     "metadata": {},
     "output_type": "execute_result"
    }
   ],
   "source": [
    "2 % 3"
   ]
  },
  {
   "cell_type": "code",
   "execution_count": null,
   "id": "2639c13c",
   "metadata": {},
   "outputs": [
    {
     "data": {
      "text/plain": [
       "''"
      ]
     },
     "execution_count": 232,
     "metadata": {},
     "output_type": "execute_result"
    }
   ],
   "source": [
    "0 * ' '"
   ]
  },
  {
   "cell_type": "code",
   "execution_count": null,
   "id": "ed85228b",
   "metadata": {},
   "outputs": [
    {
     "ename": "AttributeError",
     "evalue": "'DataBasePage' object has no attribute 'keys'",
     "output_type": "error",
     "traceback": [
      "\u001b[0;31m---------------------------------------------------------------------------\u001b[0m",
      "\u001b[0;31mAttributeError\u001b[0m                            Traceback (most recent call last)",
      "Cell \u001b[0;32mIn[188], line 1\u001b[0m\n\u001b[0;32m----> 1\u001b[0m DB\u001b[38;5;241m.\u001b[39mkeys()\n",
      "\u001b[0;31mAttributeError\u001b[0m: 'DataBasePage' object has no attribute 'keys'"
     ]
    }
   ],
   "source": [
    "DB.keys()"
   ]
  },
  {
   "cell_type": "code",
   "execution_count": null,
   "id": "f02e17e6",
   "metadata": {},
   "outputs": [
    {
     "data": {
      "text/plain": [
       "dict_keys(['&', '&2'])"
      ]
     },
     "execution_count": 191,
     "metadata": {},
     "output_type": "execute_result"
    }
   ],
   "source": [
    "DB.getPage().keys()"
   ]
  },
  {
   "cell_type": "code",
   "execution_count": null,
   "id": "91d57681",
   "metadata": {},
   "outputs": [
    {
     "data": {
      "text/plain": [
       "True"
      ]
     },
     "execution_count": 80,
     "metadata": {},
     "output_type": "execute_result"
    }
   ],
   "source": [
    "tline = \"         \"\n",
    "\n",
    "tline == \" \" * len(tline)"
   ]
  },
  {
   "cell_type": "code",
   "execution_count": null,
   "id": "59b8013b",
   "metadata": {},
   "outputs": [],
   "source": [
    "line = '#$#*@@!!!#####   ;'\n"
   ]
  },
  {
   "cell_type": "code",
   "execution_count": null,
   "id": "00a9ec00",
   "metadata": {},
   "outputs": [
    {
     "data": {
      "text/plain": [
       "'hell(4)'"
      ]
     },
     "execution_count": 14,
     "metadata": {},
     "output_type": "execute_result"
    }
   ],
   "source": [
    "dataBase.suffixDepth([\"hell\",\"hell(1)\",\"hell(2)\",\"hell(3)\"],\"hell\")"
   ]
  },
  {
   "cell_type": "code",
   "execution_count": null,
   "id": "8f27a522",
   "metadata": {},
   "outputs": [
    {
     "data": {
      "text/plain": [
       "ViewerDict with value \"1\", and \"0\" entries"
      ]
     },
     "execution_count": 74,
     "metadata": {},
     "output_type": "execute_result"
    }
   ],
   "source": [
    "VB = dataBase.ViewerDict(header=\"To all in all\")\n",
    "VB['hi'] = 10\n",
    "VB['by'] = 1\n",
    "VB['by'][\"buy\"] = 1\n",
    "VB['by'][\"buy\"]"
   ]
  },
  {
   "cell_type": "code",
   "execution_count": null,
   "id": "54061f75",
   "metadata": {},
   "outputs": [],
   "source": [
    "VB.recursiveSet(['by',\"buy\",\"bi\"],100)"
   ]
  },
  {
   "cell_type": "code",
   "execution_count": null,
   "id": "5e58f724",
   "metadata": {},
   "outputs": [
    {
     "data": {
      "text/plain": [
       "ViewerDict with value \"1\", and \"1\" entries"
      ]
     },
     "execution_count": 77,
     "metadata": {},
     "output_type": "execute_result"
    }
   ],
   "source": [
    "VB['by'][\"buy\"]"
   ]
  },
  {
   "cell_type": "code",
   "execution_count": null,
   "id": "2332aa89",
   "metadata": {},
   "outputs": [
    {
     "data": {
      "text/plain": [
       "Viewer list: \n",
       "  10\n",
       "  1"
      ]
     },
     "execution_count": 44,
     "metadata": {},
     "output_type": "execute_result"
    }
   ],
   "source": [
    "VL = dataBase.ViewerList([VB['hi'],VB['by']])\n"
   ]
  },
  {
   "cell_type": "code",
   "execution_count": null,
   "id": "bc5d6bf3",
   "metadata": {},
   "outputs": [
    {
     "data": {
      "text/plain": [
       "[ViewerDict with value \"10\", and \"0\" entries,\n",
       " ViewerDict with value \"1\", and \"1\" entries]"
      ]
     },
     "execution_count": 49,
     "metadata": {},
     "output_type": "execute_result"
    }
   ],
   "source": [
    "VL[[\"10\",\"1\"]]"
   ]
  },
  {
   "cell_type": "code",
   "execution_count": null,
   "id": "5d4d75eb",
   "metadata": {},
   "outputs": [
    {
     "data": {
      "text/plain": [
       "0"
      ]
     },
     "execution_count": 23,
     "metadata": {},
     "output_type": "execute_result"
    }
   ],
   "source": [
    "dict1[VB]"
   ]
  },
  {
   "cell_type": "code",
   "execution_count": null,
   "id": "60665674",
   "metadata": {},
   "outputs": [
    {
     "name": "stdout",
     "output_type": "stream",
     "text": [
      "5\n"
     ]
    },
    {
     "data": {
      "text/plain": [
       "[]"
      ]
     },
     "execution_count": 64,
     "metadata": {},
     "output_type": "execute_result"
    }
   ],
   "source": [
    "\n",
    "# l = [1,2,3,4,5]\n",
    "\n",
    "print(l[0])\n",
    "del l[0]\n",
    "l"
   ]
  },
  {
   "cell_type": "code",
   "execution_count": null,
   "id": "c6567e76",
   "metadata": {},
   "outputs": [
    {
     "data": {
      "text/plain": [
       "tuple"
      ]
     },
     "execution_count": 33,
     "metadata": {},
     "output_type": "execute_result"
    }
   ],
   "source": [
    "type(('',0))"
   ]
  },
  {
   "cell_type": "code",
   "execution_count": null,
   "id": "66eec175",
   "metadata": {},
   "outputs": [
    {
     "data": {
      "text/plain": [
       "\"To all in all\" with \"2\" entries"
      ]
     },
     "execution_count": 21,
     "metadata": {},
     "output_type": "execute_result"
    }
   ],
   "source": [
    "VB"
   ]
  },
  {
   "cell_type": "code",
   "execution_count": null,
   "id": "c1c4a042",
   "metadata": {},
   "outputs": [
    {
     "data": {
      "text/plain": [
       "<Scripts.objectF.dataBase.viewerDict at 0x701b3bfc5b10>"
      ]
     },
     "execution_count": 31,
     "metadata": {},
     "output_type": "execute_result"
    }
   ],
   "source": [
    "VB.dictionary['hi']"
   ]
  },
  {
   "cell_type": "code",
   "execution_count": null,
   "id": "c2a28536",
   "metadata": {},
   "outputs": [],
   "source": []
  }
 ],
 "metadata": {
  "kernelspec": {
   "display_name": "aymig",
   "language": "python",
   "name": "python3"
  },
  "language_info": {
   "codemirror_mode": {
    "name": "ipython",
    "version": 3
   },
   "file_extension": ".py",
   "mimetype": "text/x-python",
   "name": "python",
   "nbconvert_exporter": "python",
   "pygments_lexer": "ipython3",
   "version": "3.11.11"
  }
 },
 "nbformat": 4,
 "nbformat_minor": 5
}
