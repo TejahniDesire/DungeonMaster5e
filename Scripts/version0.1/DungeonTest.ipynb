{
 "cells": [
  {
   "cell_type": "code",
   "execution_count": 1,
   "metadata": {
    "ExecuteTime": {
     "end_time": "2024-07-03T17:29:12.735400426Z",
     "start_time": "2024-07-03T17:29:12.667678288Z"
    }
   },
   "outputs": [],
   "source": [
    "import numpy as np\n",
    "import ruleTools\n",
    "import objectsDnD \n",
    "from fractions import Fraction\n",
    "import Reading\n",
    "import objectHelperTools as oHT\n",
    "import charManagers\n",
    "import EZPaths\n",
    "import re\n",
    "import re\n",
    "import pyObjects\n",
    "%load_ext autoreload\n",
    "%autoreload 2\n",
    "from functools import partial"
   ]
  },
  {
   "cell_type": "code",
   "execution_count": 2,
   "outputs": [
    {
     "name": "stdout",
     "output_type": "stream",
     "text": [
      "True\n"
     ]
    }
   ],
   "source": [
    "if type(\"HI\") is str:\n",
    "    print(True)"
   ],
   "metadata": {
    "collapsed": false,
    "ExecuteTime": {
     "end_time": "2024-07-03T15:32:57.461195683Z",
     "start_time": "2024-07-03T15:32:57.447106709Z"
    }
   }
  },
  {
   "cell_type": "code",
   "execution_count": 36,
   "outputs": [
    {
     "data": {
      "text/plain": "True"
     },
     "execution_count": 36,
     "metadata": {},
     "output_type": "execute_result"
    }
   ],
   "source": [
    "t = {\"DD\":1}\n",
    "\"DD\" in t.keys()"
   ],
   "metadata": {
    "collapsed": false,
    "ExecuteTime": {
     "end_time": "2024-07-01T17:47:57.825244716Z",
     "start_time": "2024-07-01T17:47:57.798160360Z"
    }
   }
  },
  {
   "cell_type": "code",
   "execution_count": 4,
   "outputs": [
    {
     "name": "stdout",
     "output_type": "stream",
     "text": [
      "[DnDItem:Stupid_Misc, DnDItem:1Stupdi_Misc]\n",
      "[DnDItem:Stupid_Misc, DnDItem:1Stupdi_Misc]\n"
     ]
    }
   ],
   "source": [
    "t = charManagers.ItemHolder()\n",
    "t_object = objectsDnD.Item(\"1Stupdi\",10)\n",
    "t.add_item(t_object)\n",
    "t.add_item(objectsDnD.Item(\"Stupid\",10))\n",
    "t.set_reversal(True)\n",
    "print(t.get_all_items())\n",
    "\n",
    "t2 = charManagers.ItemHolder()\n",
    "t2.add_item(t_object)\n",
    "t2.add_item(objectsDnD.Item(\"Stupid\",10))\n",
    "t2.set_reversal(True)\n",
    "print(t2.get_all_items())"
   ],
   "metadata": {
    "collapsed": false,
    "ExecuteTime": {
     "end_time": "2024-07-03T17:29:48.630486307Z",
     "start_time": "2024-07-03T17:29:48.583642955Z"
    }
   }
  },
  {
   "cell_type": "code",
   "execution_count": 5,
   "outputs": [
    {
     "ename": "TypeError",
     "evalue": "list indices must be integers or slices, not list",
     "output_type": "error",
     "traceback": [
      "\u001B[0;31m---------------------------------------------------------------------------\u001B[0m",
      "\u001B[0;31mTypeError\u001B[0m                                 Traceback (most recent call last)",
      "Cell \u001B[0;32mIn[5], line 1\u001B[0m\n\u001B[0;32m----> 1\u001B[0m t2\u001B[38;5;241m.\u001B[39mget_all_items()[t\u001B[38;5;241m.\u001B[39mget_all_items()]\n",
      "\u001B[0;31mTypeError\u001B[0m: list indices must be integers or slices, not list"
     ]
    }
   ],
   "source": [
    "t2.get_all_items()[t.get_all_items()]"
   ],
   "metadata": {
    "collapsed": false,
    "ExecuteTime": {
     "end_time": "2024-07-03T17:30:52.920028106Z",
     "start_time": "2024-07-03T17:30:52.289107677Z"
    }
   }
  },
  {
   "cell_type": "code",
   "execution_count": 10,
   "outputs": [],
   "source": [
    "t2items = np.array(t2.get_all_items())\n",
    "titems = np.array(t.get_all_items())"
   ],
   "metadata": {
    "collapsed": false,
    "ExecuteTime": {
     "end_time": "2024-07-03T17:31:44.140906714Z",
     "start_time": "2024-07-03T17:31:44.093118325Z"
    }
   }
  },
  {
   "cell_type": "code",
   "execution_count": 15,
   "outputs": [
    {
     "data": {
      "text/plain": "False"
     },
     "execution_count": 15,
     "metadata": {},
     "output_type": "execute_result"
    }
   ],
   "source": [
    "t2items[0] in titems"
   ],
   "metadata": {
    "collapsed": false,
    "ExecuteTime": {
     "end_time": "2024-07-03T17:33:12.367688313Z",
     "start_time": "2024-07-03T17:33:12.338196307Z"
    }
   }
  },
  {
   "cell_type": "code",
   "execution_count": 23,
   "outputs": [
    {
     "ename": "AttributeError",
     "evalue": "'numpy.ndarray' object has no attribute 'get_key_name'",
     "output_type": "error",
     "traceback": [
      "\u001B[0;31m---------------------------------------------------------------------------\u001B[0m",
      "\u001B[0;31mAttributeError\u001B[0m                            Traceback (most recent call last)",
      "Cell \u001B[0;32mIn[23], line 1\u001B[0m\n\u001B[0;32m----> 1\u001B[0m titems\u001B[38;5;241m.\u001B[39mget_key_name()\n",
      "\u001B[0;31mAttributeError\u001B[0m: 'numpy.ndarray' object has no attribute 'get_key_name'"
     ]
    }
   ],
   "source": [
    "titems.get_key_name()"
   ],
   "metadata": {
    "collapsed": false,
    "ExecuteTime": {
     "end_time": "2024-07-03T17:34:03.404405738Z",
     "start_time": "2024-07-03T17:34:03.346113808Z"
    }
   }
  },
  {
   "cell_type": "code",
   "execution_count": 16,
   "outputs": [
    {
     "data": {
      "text/plain": "DnDItem:Stupid_Misc"
     },
     "execution_count": 16,
     "metadata": {},
     "output_type": "execute_result"
    }
   ],
   "source": [
    "t2items[0]"
   ],
   "metadata": {
    "collapsed": false,
    "ExecuteTime": {
     "end_time": "2024-07-03T17:33:19.266937856Z",
     "start_time": "2024-07-03T17:33:19.223476121Z"
    }
   }
  },
  {
   "cell_type": "code",
   "execution_count": null,
   "outputs": [],
   "source": [
    "t."
   ],
   "metadata": {
    "collapsed": false
   }
  },
  {
   "cell_type": "code",
   "execution_count": 41,
   "outputs": [],
   "source": [
    "def add(a,b=0,c=0):\n",
    "    print(a + b + c)"
   ],
   "metadata": {
    "collapsed": false,
    "ExecuteTime": {
     "end_time": "2024-06-25T14:38:03.201037782Z",
     "start_time": "2024-06-25T14:38:03.190330367Z"
    }
   }
  },
  {
   "cell_type": "code",
   "execution_count": 82,
   "outputs": [
    {
     "name": "stdout",
     "output_type": "stream",
     "text": [
      "6\n",
      "6\n"
     ]
    }
   ],
   "source": [
    "pyObjects.preform([add,partial(add,1,2,3)],[[3,2,1]])"
   ],
   "metadata": {
    "collapsed": false,
    "ExecuteTime": {
     "end_time": "2024-06-25T16:59:30.811092693Z",
     "start_time": "2024-06-25T16:59:30.801106333Z"
    }
   }
  },
  {
   "cell_type": "code",
   "execution_count": 64,
   "outputs": [
    {
     "data": {
      "text/plain": "True"
     },
     "execution_count": 64,
     "metadata": {},
     "output_type": "execute_result"
    }
   ],
   "source": [
    "callable(add)"
   ],
   "metadata": {
    "collapsed": false,
    "ExecuteTime": {
     "end_time": "2024-06-25T15:40:01.035409679Z",
     "start_time": "2024-06-25T15:40:01.023623652Z"
    }
   }
  },
  {
   "cell_type": "code",
   "execution_count": 49,
   "outputs": [
    {
     "ename": "TypeError",
     "evalue": "unsupported operand type(s) for +: 'functools.partial' and 'int'",
     "output_type": "error",
     "traceback": [
      "\u001B[0;31m---------------------------------------------------------------------------\u001B[0m",
      "\u001B[0;31mTypeError\u001B[0m                                 Traceback (most recent call last)",
      "Cell \u001B[0;32mIn[49], line 1\u001B[0m\n\u001B[0;32m----> 1\u001B[0m pyObjects\u001B[38;5;241m.\u001B[39mpreform([partial(add)],[partial(add)])\n",
      "File \u001B[0;32m~/Desktop/Code_Stuff/Repositories/pro_dragon/The_Dungeon_of_the_Dragon/Scripts/pyObjects.py:37\u001B[0m, in \u001B[0;36mpreform\u001B[0;34m(function, args)\u001B[0m\n\u001B[1;32m     35\u001B[0m         function[i](\u001B[38;5;241m*\u001B[39margs[i])\n\u001B[1;32m     36\u001B[0m     \u001B[38;5;28;01melse\u001B[39;00m:\n\u001B[0;32m---> 37\u001B[0m         function[i](args[i])\n\u001B[1;32m     38\u001B[0m \u001B[38;5;28;01melse\u001B[39;00m:\n\u001B[1;32m     39\u001B[0m     function[i]()\n",
      "Cell \u001B[0;32mIn[41], line 2\u001B[0m, in \u001B[0;36madd\u001B[0;34m(a, b, c)\u001B[0m\n\u001B[1;32m      1\u001B[0m \u001B[38;5;28;01mdef\u001B[39;00m \u001B[38;5;21madd\u001B[39m(a,b\u001B[38;5;241m=\u001B[39m\u001B[38;5;241m0\u001B[39m,c\u001B[38;5;241m=\u001B[39m\u001B[38;5;241m0\u001B[39m):\n\u001B[0;32m----> 2\u001B[0m     \u001B[38;5;28mprint\u001B[39m(a \u001B[38;5;241m+\u001B[39m b \u001B[38;5;241m+\u001B[39m c)\n",
      "\u001B[0;31mTypeError\u001B[0m: unsupported operand type(s) for +: 'functools.partial' and 'int'"
     ]
    }
   ],
   "source": [
    "pyObjects.preform([partial(add)],[partial(add)])"
   ],
   "metadata": {
    "collapsed": false,
    "ExecuteTime": {
     "end_time": "2024-06-25T14:41:55.663392904Z",
     "start_time": "2024-06-25T14:41:55.628988381Z"
    }
   }
  },
  {
   "cell_type": "code",
   "execution_count": 47,
   "outputs": [
    {
     "name": "stdout",
     "output_type": "stream",
     "text": [
      "2\n",
      "7\n"
     ]
    }
   ],
   "source": [
    "partial(pyObjects.preform,[partial(add),add],[2,[1,3,3]])()"
   ],
   "metadata": {
    "collapsed": false,
    "ExecuteTime": {
     "end_time": "2024-06-25T14:39:58.189254610Z",
     "start_time": "2024-06-25T14:39:58.175663726Z"
    }
   }
  },
  {
   "cell_type": "code",
   "execution_count": 40,
   "outputs": [
    {
     "name": "stdout",
     "output_type": "stream",
     "text": [
      "6\n"
     ]
    },
    {
     "ename": "TypeError",
     "evalue": "__main__.add() argument after * must be an iterable, not int",
     "output_type": "error",
     "traceback": [
      "\u001B[0;31m---------------------------------------------------------------------------\u001B[0m",
      "\u001B[0;31mTypeError\u001B[0m                                 Traceback (most recent call last)",
      "Cell \u001B[0;32mIn[40], line 4\u001B[0m\n\u001B[1;32m      2\u001B[0m t2 \u001B[38;5;241m=\u001B[39m \u001B[38;5;241m1\u001B[39m\n\u001B[1;32m      3\u001B[0m add(\u001B[38;5;241m*\u001B[39mt)\n\u001B[0;32m----> 4\u001B[0m add(\u001B[38;5;241m*\u001B[39mt2)\n",
      "\u001B[0;31mTypeError\u001B[0m: __main__.add() argument after * must be an iterable, not int"
     ]
    }
   ],
   "source": [
    "\n",
    "t = (1,2,3)\n",
    "t2 = 1\n",
    "add(*t)\n",
    "add(*t2)"
   ],
   "metadata": {
    "collapsed": false,
    "ExecuteTime": {
     "end_time": "2024-06-25T14:38:00.363153662Z",
     "start_time": "2024-06-25T14:38:00.112801191Z"
    }
   }
  },
  {
   "cell_type": "code",
   "execution_count": 37,
   "outputs": [
    {
     "name": "stdout",
     "output_type": "stream",
     "text": [
      "1 2 3\n"
     ]
    }
   ],
   "source": [
    "print(*t)"
   ],
   "metadata": {
    "collapsed": false,
    "ExecuteTime": {
     "end_time": "2024-06-25T14:35:38.348368931Z",
     "start_time": "2024-06-25T14:35:38.335473264Z"
    }
   }
  },
  {
   "cell_type": "code",
   "execution_count": 23,
   "outputs": [
    {
     "data": {
      "text/plain": "list"
     },
     "execution_count": 23,
     "metadata": {},
     "output_type": "execute_result"
    }
   ],
   "source": [
    "type(arg[1])"
   ],
   "metadata": {
    "collapsed": false,
    "ExecuteTime": {
     "end_time": "2024-06-25T14:32:07.762384311Z",
     "start_time": "2024-06-25T14:32:07.750248413Z"
    }
   }
  },
  {
   "cell_type": "code",
   "execution_count": 26,
   "outputs": [
    {
     "name": "stdout",
     "output_type": "stream",
     "text": [
      "False\n"
     ]
    },
    {
     "name": "stderr",
     "output_type": "stream",
     "text": [
      "[autoreload of pyObjects failed: Traceback (most recent call last):\n",
      "  File \"/home/tej/anaconda3/envs/aymig/lib/python3.11/site-packages/IPython/extensions/autoreload.py\", line 273, in check\n",
      "    superreload(m, reload, self.old_objects)\n",
      "  File \"/home/tej/anaconda3/envs/aymig/lib/python3.11/site-packages/IPython/extensions/autoreload.py\", line 471, in superreload\n",
      "    module = reload(module)\n",
      "             ^^^^^^^^^^^^^^\n",
      "  File \"/home/tej/anaconda3/envs/aymig/lib/python3.11/importlib/__init__.py\", line 169, in reload\n",
      "    _bootstrap._exec(spec, module)\n",
      "  File \"<frozen importlib._bootstrap>\", line 621, in _exec\n",
      "  File \"<frozen importlib._bootstrap_external>\", line 936, in exec_module\n",
      "  File \"<frozen importlib._bootstrap_external>\", line 1074, in get_code\n",
      "  File \"<frozen importlib._bootstrap_external>\", line 1004, in source_to_code\n",
      "  File \"<frozen importlib._bootstrap>\", line 241, in _call_with_frames_removed\n",
      "  File \"/home/tej/Desktop/Code_Stuff/Repositories/pro_dragon/The_Dungeon_of_the_Dragon/Scripts/pyObjects.py\", line 35\n",
      "    function[i](args[i])\n",
      "    ^^^^^^^^\n",
      "IndentationError: expected an indented block after 'if' statement on line 34\n",
      "]\n"
     ]
    }
   ],
   "source": [
    "arg = [10,[1,2]]\n",
    "print(type(arg[0]) is list)"
   ],
   "metadata": {
    "collapsed": false,
    "ExecuteTime": {
     "end_time": "2024-06-25T14:33:28.525829064Z",
     "start_time": "2024-06-25T14:33:28.513180482Z"
    }
   }
  },
  {
   "cell_type": "code",
   "execution_count": 18,
   "outputs": [
    {
     "name": "stdout",
     "output_type": "stream",
     "text": [
      "10\n",
      "0\n",
      "30\n",
      "<bound method ReferenceNumber.getValue of <pyObjects.ReferenceNumber object at 0x7d15f29cdc90>>\n"
     ]
    }
   ],
   "source": [
    "num = pyObjects.ReferenceNumber(10,True)\n",
    "print(num)\n",
    "num.subtract(10)\n",
    "print(num)\n",
    "function1 = partial(print,num.getValue)\n",
    "function3 = partial(print,\"DUMB\")\n",
    "\n",
    "num.add(30)\n",
    "print(num)\n",
    "function1()"
   ],
   "metadata": {
    "collapsed": false,
    "ExecuteTime": {
     "end_time": "2024-06-25T14:24:34.428341844Z",
     "start_time": "2024-06-25T14:24:34.353350040Z"
    }
   }
  },
  {
   "cell_type": "code",
   "execution_count": 21,
   "outputs": [
    {
     "name": "stdout",
     "output_type": "stream",
     "text": [
      "NOT NUMBER\n"
     ]
    }
   ],
   "source": [
    "var = \"1.0\"\n",
    "if (type(var) is float) or (type(var) is int):\n",
    "    print(str(var))\n",
    "else:\n",
    "    print(\"NOT NUMBER\")\n"
   ],
   "metadata": {
    "collapsed": false,
    "ExecuteTime": {
     "end_time": "2024-06-15T16:06:13.670685055Z",
     "start_time": "2024-06-15T16:06:13.657422480Z"
    }
   }
  },
  {
   "cell_type": "code",
   "execution_count": 31,
   "outputs": [
    {
     "name": "stdout",
     "output_type": "stream",
     "text": [
      "Not float\n"
     ]
    }
   ],
   "source": [
    "element = \"a\"\n",
    "if re.match(r\"^-?\\d+(?:\\.\\d+)$\", element) is None:\n",
    "    print(\"Not float\")"
   ],
   "metadata": {
    "collapsed": false,
    "ExecuteTime": {
     "end_time": "2024-06-15T16:09:30.258256426Z",
     "start_time": "2024-06-15T16:09:30.247185592Z"
    }
   }
  },
  {
   "cell_type": "code",
   "execution_count": 10,
   "outputs": [
    {
     "name": "stdout",
     "output_type": "stream",
     "text": [
      "________________________________________________________________________\n",
      "Item Type | Food\n",
      "Name      | Apple\n",
      "Cost      | 0 gp\n",
      "Weight    | 200 lbs\n",
      "Amount    | 30x\n",
      "________________________________________________________________________\n",
      "\n",
      "________________________________________________________________________\n",
      "Item Type | Food\n",
      "Name      | Pear\n",
      "Cost      | 0 gp\n",
      "Weight    | 200 lbs\n",
      "Amount    | 30x\n",
      "________________________________________________________________________\n",
      "\n",
      "________________________________________________________________________\n",
      "Item Type | Tool\n",
      "Name      | Hammer\n",
      "Cost      | 0 gp\n",
      "Weight    | 200 lbs\n",
      "Amount    | 30x\n",
      "________________________________________________________________________\n",
      "\n",
      "________________________________________________________________________\n",
      "Item Type  | Weapon\n",
      "Class      | Simple\n",
      "Name       | longsword\n",
      "Cost       | 5.0 cp\n",
      "Damage     | 2d6 slashing\n",
      "Weight     | 14.0 lbs\n",
      "Properties | Finesse, Thrown(20/60)\n",
      "________________________________________________________________________\n",
      "\n",
      "________________________________________________________________________\n",
      "Item Type  | Weapon\n",
      "Class      | Martial\n",
      "Name       | Dagger\n",
      "Cost       | 5.0 cp\n",
      "Damage     | 1d4 piercing\n",
      "Weight     | 19.0 lbs\n",
      "Properties | Finesse, Thrown(20/60)\n",
      "________________________________________________________________________\n",
      "\n",
      "________________________________________________________________________\n",
      "Item Type  | Weapon\n",
      "Class      | Simple\n",
      "Name       | Light Crossbow\n",
      "Cost       | 5.0 cp\n",
      "Damage     | 2d6 slashing\n",
      "Weight     | 1.0 lbs\n",
      "Properties | Finesse, Thrown(20/60)\n",
      "________________________________________________________________________\n",
      "\n",
      "________________________________________________________________________\n",
      "Item Type | Food\n",
      "Name      | Apple\n",
      "Cost      | 0 gp\n",
      "Weight    | 200 lbs\n",
      "Amount    | 30x\n",
      "________________________________________________________________________\n"
     ]
    }
   ],
   "source": [
    "testStat = DT.Stat('Strength')\n",
    "testStat.alter_contrib_base(\"base\", 13)\n",
    "testStat.alter_contrib_base('teifling race', 4)\n",
    "testStat.alter_contrib_base(\"mockery\", -2)\n",
    "testStat.alter_contrib_bonus(\"guidance\", -4)\n",
    "print(testStat)\n",
    "# testStat.remove(\"mockery\")\n",
    "# print(testStat)"
   ],
   "metadata": {
    "collapsed": false,
    "ExecuteTime": {
     "end_time": "2024-03-08T20:03:03.943797271Z",
     "start_time": "2024-03-08T20:03:03.377835288Z"
    }
   }
  },
  {
   "cell_type": "code",
   "execution_count": 17,
   "outputs": [
    {
     "name": "stdout",
     "output_type": "stream",
     "text": [
      "________________________________________________________________________\n",
      "Item Type  | Weapon\n",
      "Class      | Simple\n",
      "Name       | Light Crossbow\n",
      "Cost       | 5.0 cp\n",
      "Damage     | 2d6 slashing\n",
      "Weight     | 1.0 lbs\n",
      "Properties | Finesse, Thrown(20/60)\n",
      "________________________________________________________________________\n"
     ]
    }
   ],
   "source": [
    "print(testStat.get_type() + '\\n Base: ' + str(testStat.get_total_base()) + '\\n Modifer: ' + str(testStat.get_total_bonus()))\n",
    "testStat.remove_bonus(\"guidance\")\n",
    "print(testStat.get_type() + '\\n Base: ' + str(testStat.get_total_base()) + '\\n Modifer: ' + str(testStat.get_total_bonus()))"
   ],
   "metadata": {
    "collapsed": false,
    "ExecuteTime": {
     "end_time": "2024-03-08T20:05:04.933456168Z",
     "start_time": "2024-03-08T20:05:04.918758737Z"
    }
   }
  },
  {
   "cell_type": "code",
   "execution_count": 26,
   "outputs": [
    {
     "name": "stdout",
     "output_type": "stream",
     "text": [
      "2\n",
      "1\n"
     ]
    }
   ],
   "source": [
    "testBonus = DT.StatBonus(testStat)\n",
    "testBonus.add('proficiency', 2)\n",
    "print(testBonus)\n",
    "testBonus.remove('proficiency')\n",
    "print(testBonus)\n"
   ],
   "metadata": {
    "collapsed": false,
    "ExecuteTime": {
     "end_time": "2024-03-08T21:00:39.635467365Z",
     "start_time": "2024-03-08T21:00:39.622048824Z"
    }
   }
  },
  {
   "cell_type": "code",
   "execution_count": 34,
   "outputs": [
    {
     "name": "stdout",
     "output_type": "stream",
     "text": [
      "0\n",
      "1\n",
      "2\n",
      "3\n",
      "4\n",
      "5\n",
      "6\n",
      "7\n"
     ]
    }
   ],
   "source": [
    "test = DT.RPValue('Expr Points', True)\n",
    "test.add(3000)\n",
    "print(test)\n",
    "test.subtract(5000)\n",
    "print(test)"
   ],
   "metadata": {
    "collapsed": false,
    "ExecuteTime": {
     "end_time": "2024-03-08T21:12:44.426373562Z",
     "start_time": "2024-03-08T21:12:44.415980819Z"
    }
   }
  },
  {
   "cell_type": "code",
   "execution_count": 14,
   "outputs": [
    {
     "name": "stdout",
     "output_type": "stream",
     "text": [
      "0\n",
      "2\n",
      "1\n"
     ]
    }
   ],
   "source": [
    "t = DT.HitDice()\n",
    "print(t.get_total_hd())\n",
    "t.set_d_type(4)\n",
    "t.set_total_hd(2)\n",
    "t.add_hd(2)\n",
    "print(t.get_current_hd())\n",
    "t.subtract_hd()\n",
    "print(t.get_current_hd())"
   ],
   "metadata": {
    "collapsed": false,
    "ExecuteTime": {
     "end_time": "2024-02-12T23:09:46.102439689Z",
     "start_time": "2024-02-12T23:09:46.084220244Z"
    }
   }
  },
  {
   "cell_type": "code",
   "execution_count": 18,
   "outputs": [
    {
     "data": {
      "text/plain": "2"
     },
     "execution_count": 18,
     "metadata": {},
     "output_type": "execute_result"
    }
   ],
   "source": [
    "ones = np.array([1,1,1])\n",
    "false = [False, True, True]\n",
    "ones[false].sum()"
   ],
   "metadata": {
    "collapsed": false,
    "ExecuteTime": {
     "end_time": "2024-02-13T01:27:32.229375122Z",
     "start_time": "2024-02-13T01:27:32.182748258Z"
    }
   }
  },
  {
   "cell_type": "code",
   "execution_count": 195,
   "outputs": [
    {
     "data": {
      "text/plain": "'Weapon'"
     },
     "execution_count": 195,
     "metadata": {},
     "output_type": "execute_result"
    }
   ],
   "source": [
    "t= Reading.WeaponReader(EZPaths.Weapon_Path)\n",
    "t.get_all_weapons()[0].get_type()"
   ],
   "metadata": {
    "collapsed": false,
    "ExecuteTime": {
     "end_time": "2024-03-07T14:58:21.109065745Z",
     "start_time": "2024-03-07T14:58:21.087319961Z"
    }
   }
  },
  {
   "cell_type": "code",
   "execution_count": 338,
   "outputs": [
    {
     "name": "stdout",
     "output_type": "stream",
     "text": [
      "1d4\n",
      "1\n"
     ]
    }
   ],
   "source": [
    "dice = DT.Dice(1,4)\n",
    "print(dice)\n",
    "print(dice.roll_dice())\n",
    "\n"
   ],
   "metadata": {
    "collapsed": false,
    "ExecuteTime": {
     "end_time": "2024-03-02T22:38:13.919329188Z",
     "start_time": "2024-03-02T22:38:13.910745979Z"
    }
   }
  },
  {
   "cell_type": "code",
   "execution_count": 112,
   "outputs": [
    {
     "data": {
      "text/plain": "1"
     },
     "execution_count": 112,
     "metadata": {},
     "output_type": "execute_result"
    }
   ],
   "source": [
    "int(np.random.rand()*3 + 1)"
   ],
   "metadata": {
    "collapsed": false,
    "ExecuteTime": {
     "end_time": "2024-03-02T22:26:02.013875009Z",
     "start_time": "2024-03-02T22:26:02.000824674Z"
    }
   }
  },
  {
   "cell_type": "code",
   "execution_count": 327,
   "outputs": [
    {
     "name": "stdout",
     "output_type": "stream",
     "text": [
      "False\n"
     ]
    }
   ],
   "source": [
    "one = 1\n",
    "print(not isinstance(1,int))\n",
    "# print(type(one) == type(1))"
   ],
   "metadata": {
    "collapsed": false,
    "ExecuteTime": {
     "end_time": "2024-03-02T22:36:01.993903851Z",
     "start_time": "2024-03-02T22:36:01.984540568Z"
    }
   }
  },
  {
   "cell_type": "code",
   "execution_count": 398,
   "outputs": [
    {
     "data": {
      "text/plain": "['Finesse', 'Thrown(20/60)']"
     },
     "execution_count": 398,
     "metadata": {},
     "output_type": "execute_result"
    }
   ],
   "source": [
    "\n"
   ],
   "metadata": {
    "collapsed": false,
    "ExecuteTime": {
     "end_time": "2024-03-02T23:08:47.349926708Z",
     "start_time": "2024-03-02T23:08:47.339046850Z"
    }
   }
  },
  {
   "cell_type": "code",
   "execution_count": 184,
   "outputs": [
    {
     "name": "stdout",
     "output_type": "stream",
     "text": [
      "dagger\n",
      "longsword\n",
      "light_crossbow\n",
      "apple\n",
      "pear\n",
      "hammer\n"
     ]
    }
   ],
   "source": [
    "\n",
    "weaponClass = \"Simple\"\n",
    "dagger = \"Dagger\t\t5_cp \t1d4 \tpiercing \t19 \tFinesse-Thrown(20/60)\"\n",
    "sword = \"longsword \t\t5_cp \t2d6 \tslashing \t14 \tFinesse-Thrown(20/60)\"\n",
    "crossbow = \"Light_Crossbow \t\t5_cp \t2d6 \tslashing \t1 \tFinesse-Thrown(20/60)\"\n",
    "sword = Reading.parseWeaponLine(\"Simple\",sword)\n",
    "dagger = Reading.parseWeaponLine(\"Martial\",dagger)\n",
    "crossbow = Reading.parseWeaponLine(\"Simple\",crossbow)\n",
    "apple = objectsDnD.Item(\"Apple\",200,category=\"food\")\n",
    "pear = objectsDnD.Item(\"Pear\",200,category=\"food\")\n",
    "hammer = objectsDnD.Item(\"Hammer\",200, category=\"tool\")\n",
    "\n",
    "inventory = charManagers.Inventory()\n",
    "inventory.add_item(sword.get_key_name(), sword, 2)\n",
    "inventory.add_item(dagger.get_key_name(), dagger, 1)\n",
    "inventory.add_item(crossbow.get_key_name(), crossbow, 3)\n",
    "inventory.add_item(apple.get_key_name(),apple,30)\n",
    "inventory.add_item(pear.get_key_name(),pear,30)\n",
    "inventory.add_item(hammer.get_key_name(),hammer,30)\n",
    "\n",
    "listI = inventory.get_list_by(\"type\")\n",
    "for i in range(len(listI)):\n",
    "    print(listI[i])\n",
    "\n"
   ],
   "metadata": {
    "collapsed": false,
    "ExecuteTime": {
     "end_time": "2024-03-07T04:30:12.432245580Z",
     "start_time": "2024-03-07T04:30:12.421225348Z"
    }
   }
  }
 ],
 "metadata": {
  "kernelspec": {
   "display_name": "usrp2023_local",
   "language": "python",
   "name": "python3"
  },
  "language_info": {
   "codemirror_mode": {
    "name": "ipython",
    "version": 3
   },
   "file_extension": ".py",
   "mimetype": "text/x-python",
   "name": "python",
   "nbconvert_exporter": "python",
   "pygments_lexer": "ipython3",
   "version": "3.11.3"
  },
  "orig_nbformat": 4
 },
 "nbformat": 4,
 "nbformat_minor": 2
}
